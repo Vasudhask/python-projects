{
 "cells": [
  {
   "cell_type": "markdown",
   "metadata": {},
   "source": [
    "# Acronymns Generator\n",
    "\n",
    "An acronym is a short form of a word created by long words or phrases such as NLP for natural language processing. \n",
    "In this article, I will walk you through how to write a program to create acronyms using Python.\n",
    "\n",
    "**Create Acronyms using Python**\n",
    "\n",
    "To create acronyms using Python, you need to write a python program that generates a short form of a word from a \n",
    "given sentence. You can do this by splitting and indexing to get the first word and then combine it. \n",
    "Let’s see how to create an acronym using Python:\n",
    "\n",
    "**Learning Outcome**\n",
    "a) String manipulation\n",
    "b) Looping"
   ]
  },
  {
   "cell_type": "code",
   "execution_count": null,
   "metadata": {},
   "outputs": [],
   "source": [
    "#code for seeking input"
   ]
  }
 ],
 "metadata": {
  "kernelspec": {
   "display_name": "Python 3",
   "language": "python",
   "name": "python3"
  },
  "language_info": {
   "codemirror_mode": {
    "name": "ipython",
    "version": 3
   },
   "file_extension": ".py",
   "mimetype": "text/x-python",
   "name": "python",
   "nbconvert_exporter": "python",
   "pygments_lexer": "ipython3",
   "version": "3.8.3"
  }
 },
 "nbformat": 4,
 "nbformat_minor": 4
}
